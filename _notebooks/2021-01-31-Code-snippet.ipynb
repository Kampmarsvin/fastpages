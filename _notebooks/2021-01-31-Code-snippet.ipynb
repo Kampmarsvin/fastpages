{
 "cells": [
  {
   "cell_type": "markdown",
   "metadata": {},
   "source": [
    "# Code snippet"
   ]
  },
  {
   "cell_type": "markdown",
   "metadata": {},
   "source": [
    "Her er en code snippet til bogen Deep Learning for Coders with fastai and PyTorch p. 66. Da Bings search api er blevet opdateret, virker metoden: search_images_bing ikke længere, så jeg har skrevet en metode der kan bruges i stedet for "
   ]
  },
  {
   "cell_type": "code",
   "execution_count": 1,
   "metadata": {},
   "outputs": [],
   "source": [
    "\n",
    "def search_images_bing_new(key, term, customConfigId, min_sz=128):\n",
    "\turl = 'https://api.bing.microsoft.com/v7.0/custom/images/search?' + 'q=' + searchTerm + '&' + 'customconfig=' + customConfigId + '&' + 'count=150'\n",
    "\tr = requests.get(url, headers={'Ocp-Apim-Subscription-Key': key})\n",
    "\tsearch_results = r.json()\n",
    "\treturn L([img[\"thumbnailUrl\"] for img in search_results[\"value\"][:150]])\n"
   ]
  }
 ],
 "metadata": {
  "kernelspec": {
   "display_name": "Python 3",
   "language": "python",
   "name": "python3"
  },
  "language_info": {
   "codemirror_mode": {
    "name": "ipython",
    "version": 3
   },
   "file_extension": ".py",
   "mimetype": "text/x-python",
   "name": "python",
   "nbconvert_exporter": "python",
   "pygments_lexer": "ipython3",
   "version": "3.6.8"
  }
 },
 "nbformat": 4,
 "nbformat_minor": 4
}
