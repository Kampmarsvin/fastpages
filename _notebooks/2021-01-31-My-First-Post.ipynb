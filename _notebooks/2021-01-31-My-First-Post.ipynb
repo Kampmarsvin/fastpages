{
 "cells": [
  {
   "cell_type": "markdown",
   "metadata": {},
   "source": [
    "### Første rigtige blog post"
   ]
  },
  {
   "cell_type": "markdown",
   "metadata": {},
   "source": [
    "Deep Learning for Coders with fastai and PyTorch\n",
    "Dette er svarene til bogen Deep Learning for Coders with fastai & PyTorch. Jeg har valgt at skrive på dansk, da der ikke findes ret meget på dansk om machine learning.\n",
    "\n"
   ]
  },
  {
   "cell_type": "markdown",
   "metadata": {},
   "source": [
    "\n",
    "\n",
    "\n",
    "\n",
    "Spørgsmål og svar\n",
    "\n",
    "Kapitel 1\n",
    "1.\tHar man brug for disse til deep learning?\n",
    "•\tMasser af matematik? Nej\n",
    "•\tMasser af data? Nej\n",
    "•\tMasser af dyre computere? Nej\n",
    "•\tEn ph.d.? nej\n",
    "2.\tNævn fem områder, hvor deep learning er det bedste redskab i verden på nuværende tidspunkt\n",
    "•\tBilledegenkendelse\n",
    "•\tSpille spil (fx skak og Go)\n",
    "•\tStyre robotter\n",
    "•\tNLP fx speech recognition\n",
    "•\tRecommendation systems fx netflix\n",
    "3.\tHvad var navnet på det første device, der var baseret på princippet om artificial neurons? The Mark I Perceptron\n",
    "4.\tBaseret på bogen af samme navn, hvad er så kravene for parallel distributed processing? \n",
    "•\tEt sæt af processing units\n",
    "•\tEt aktiveringsstadie\n",
    "•\tEn output funktion for hver unit\n",
    "•\tEt mønster der sammenbinder unitsene.\n",
    "•\tEn propagation rule, som videresender aktivitetsmønstre gennem det forbundne netværk\n",
    "•\tEn activation rule, der kan kombinere inputs, som påvirker units med det nuværende stadie for den givne unit til at producere et output for den enhed.\n",
    "•\tEn learning rule hvorved sammensætningsmønstrene modificeres ved erfaring.\n",
    "•\tEt miljø systemet kan køre i.\n",
    "5.\tHvad var de to teoretiske misforståelser der holdt neurale netværk tilbage?\n",
    "•\tAt man ikke tilføjede flere lag til det neurale netværk\n",
    "6.\tHvad er en GPU? \n",
    "•\tDet er en graphics processing unit, som kan processere mange stykker data samtidigt\n",
    "7.\tÅben en notebook og eksekver en celle, hvor der står 1+1. Hvad sker der?\n",
    "•\tDer kommer til at stå 2\n",
    "8.\t–\n",
    "9.\t–\n",
    "10.\tHvorfor er det så svært at bruge almindelige computerprogrammer til at genkende billeder med?\n",
    "11.\tHvad mente Samuel med ”weight assignment”?\n",
    "12.\tHvilken term bruger vi normalt i deep learning for det som Samuel kaldte ”weights”?\n",
    "13.\t–\n",
    "14.\tHvorfor er det så svært, at forstå, hvordan en deep learning model når frem til en bestemt prediction?\n",
    "•\tFordi man har svært ved at holde alle beregningerne i hovedet selv.\n",
    "15.\tHvad er navnet på det teoretiske bevis, der viser, at en neuralt netværk kan løse alle matematiske problemer til et hvert niveau af præcision?\n",
    "16.\tHvad har man brug for for at kunne træne en model?\n",
    "17.\tHvordan kunne et feedback loop påvirke udrulningen af en predictive policy model?\n",
    "18.\tSkal man altid bruge 224x224-pixel billeder ved katte-genkendelsesmodellen?\n",
    "•\tNej\n",
    "19.\tHvad er forskellen på classification og regression?\n",
    "•\tClassification bruges til at afgøre, hvilke klasse eller kategori noget hører til, mens regression arbejder med continous values, så det er fx hvad vi kan forvente en pris stiger til i fremtiden.\n",
    "20.\tHvad er et validation set? Hvad er et test set? Hvorfor har vi brug for dem?\n",
    "•\tValidation set er en del af data, der holdes tilbage for at teste sin trænede model imod. Test set er den anden del af data (ofte omkring 80%), der bruges til at træne modellen med.\n",
    "21.\tHvad gør fastai, hvis man ikke giver den et validation set?\n",
    "22.\tKan man altid bruge et tilfældigt sample til validation set’et? Hvorfor eller hvorfor ikke?\n",
    "23.\tHvad er overfitting? Giv et eksempel\n",
    "•\tOverfitting er, hvis man træner sin model for meget på kendte data, at den får en høj accuracy dér, men ikke klarer sig særlig godt på ikke kendte data. Hvis man fx har trænet sin model på bjørne fra en bestemt vinkel, men der så kommer en et billede fra en anden vinkel, så kan man ikke genkende den.\n",
    "24.\tHvad er en metric? Hvordan er den forskellig fra loss?\n",
    "•\tMetric er en måde for mennesker, at se, hvor godt modellen klarer sig, fx accuracy, altså hvor mange rigtige ud af alle, og hvor mange forkerte ud af alle. Loss derimod er hvad computeren måler sig selv op imod. Det er en funktion, som fortæller, hvor langt modellen er fra at aligne med den givne funktion. Det kunne fx være Root mean squared error, som regner ud, hvad afstanden ved hvert punkt er fra det sted den burde være.\n",
    "25.\tHvordan kan pretrained modeller hjælpe?\n",
    "•\tPå pretrained modeller kan man pille sidste lag af og træne videre med egne data og på den måde både sparre datamængde og regnekraft.\n",
    "26.\tHvad er ”head” på en model?\n",
    "27.\tHvilke features finder de tidlige lag i en CNN? Og hvad med de sene lag?\n",
    "•\tDe tidlige lag finder linjer og hjørner, de senere lag finder fx pels og øjne\n",
    "28.\tEr billedemodeller kun brugbare til fotos?\n",
    "•\tNej\n",
    "29.\tHvad er en arkitektur?\n",
    "30.\tHvad er segmentation?\n",
    "•\tDet er inddeling af områder i et billede i de dele billedet består af, fx fortov, træer etc.\n",
    "31.\tHvad bruges y_range til? Hvornår har vi brug for den?\n",
    "32.\tHvad er hyperparameters?\n",
    "33.\tHvordan undgår man bedst fiasko, når man vil bruge AI i en organisation?\n"
   ]
  },
  {
   "cell_type": "code",
   "execution_count": null,
   "metadata": {},
   "outputs": [],
   "source": []
  }
 ],
 "metadata": {
  "kernelspec": {
   "display_name": "Python 3",
   "language": "python",
   "name": "python3"
  },
  "language_info": {
   "codemirror_mode": {
    "name": "ipython",
    "version": 3
   },
   "file_extension": ".py",
   "mimetype": "text/x-python",
   "name": "python",
   "nbconvert_exporter": "python",
   "pygments_lexer": "ipython3",
   "version": "3.7.4"
  }
 },
 "nbformat": 4,
 "nbformat_minor": 2
}
